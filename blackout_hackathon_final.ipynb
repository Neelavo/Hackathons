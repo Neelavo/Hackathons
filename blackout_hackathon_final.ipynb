{
  "nbformat": 4,
  "nbformat_minor": 0,
  "metadata": {
    "colab": {
      "provenance": [],
      "include_colab_link": true
    },
    "kernelspec": {
      "name": "python3",
      "display_name": "Python 3"
    },
    "language_info": {
      "name": "python"
    }
  },
  "cells": [
    {
      "cell_type": "markdown",
      "metadata": {
        "id": "view-in-github",
        "colab_type": "text"
      },
      "source": [
        "<a href=\"https://colab.research.google.com/github/Neelavo/Hackathons/blob/main/blackout_hackathon_final.ipynb\" target=\"_parent\"><img src=\"https://colab.research.google.com/assets/colab-badge.svg\" alt=\"Open In Colab\"/></a>"
      ]
    },
    {
      "cell_type": "code",
      "execution_count": null,
      "metadata": {
        "id": "PAxasA0DN7BL"
      },
      "outputs": [],
      "source": [
        "import pandas as pd\n",
        "import numpy as np"
      ]
    },
    {
      "cell_type": "code",
      "source": [
        "traincsv=pd.read_csv(\"/content/Train_data_Autism.csv\")"
      ],
      "metadata": {
        "id": "iiX3c0ZZOiIh"
      },
      "execution_count": null,
      "outputs": []
    },
    {
      "cell_type": "markdown",
      "source": [
        "# Preprocessing"
      ],
      "metadata": {
        "id": "GpLcZAzrxi_j"
      }
    },
    {
      "cell_type": "code",
      "source": [
        "traincsv.columns"
      ],
      "metadata": {
        "colab": {
          "base_uri": "https://localhost:8080/"
        },
        "id": "OjQFJlbjOniL",
        "outputId": "83d070eb-1bd4-4e76-cade-d1284d22b171"
      },
      "execution_count": null,
      "outputs": [
        {
          "output_type": "execute_result",
          "data": {
            "text/plain": [
              "Index(['A1_Score', 'A2_Score', 'A3_Score', 'A4_Score', 'A5_Score', 'A6_Score',\n",
              "       'A7_Score', 'A8_Score', 'A9_Score', 'A10_Score', 'age', 'gender',\n",
              "       'ethnicity', 'jaundice', 'austim', 'contry_of_res', 'used_app_before',\n",
              "       'result', 'age_desc', 'relation', 'Class/ASD'],\n",
              "      dtype='object')"
            ]
          },
          "metadata": {},
          "execution_count": 583
        }
      ]
    },
    {
      "cell_type": "code",
      "source": [
        "traincsv.info()"
      ],
      "metadata": {
        "colab": {
          "base_uri": "https://localhost:8080/"
        },
        "id": "hXtnrvecO1ZK",
        "outputId": "32483e24-9e34-458b-8077-bc44dad6f477"
      },
      "execution_count": null,
      "outputs": [
        {
          "output_type": "stream",
          "name": "stdout",
          "text": [
            "<class 'pandas.core.frame.DataFrame'>\n",
            "RangeIndex: 3697 entries, 0 to 3696\n",
            "Data columns (total 21 columns):\n",
            " #   Column           Non-Null Count  Dtype \n",
            "---  ------           --------------  ----- \n",
            " 0   A1_Score         3697 non-null   object\n",
            " 1   A2_Score         3697 non-null   object\n",
            " 2   A3_Score         3697 non-null   object\n",
            " 3   A4_Score         3697 non-null   object\n",
            " 4   A5_Score         3697 non-null   object\n",
            " 5   A6_Score         3697 non-null   object\n",
            " 6   A7_Score         3697 non-null   object\n",
            " 7   A8_Score         3697 non-null   object\n",
            " 8   A9_Score         3697 non-null   object\n",
            " 9   A10_Score        3697 non-null   object\n",
            " 10  age              3695 non-null   object\n",
            " 11  gender           3697 non-null   object\n",
            " 12  ethnicity        3697 non-null   object\n",
            " 13  jaundice         3697 non-null   object\n",
            " 14  austim           3697 non-null   object\n",
            " 15  contry_of_res    3697 non-null   object\n",
            " 16  used_app_before  3697 non-null   object\n",
            " 17  result           3697 non-null   object\n",
            " 18  age_desc         3697 non-null   object\n",
            " 19  relation         3697 non-null   object\n",
            " 20  Class/ASD        3697 non-null   object\n",
            "dtypes: object(21)\n",
            "memory usage: 606.7+ KB\n"
          ]
        }
      ]
    },
    {
      "cell_type": "code",
      "source": [
        "traincsv=traincsv.drop(1196) #this guy just entered the column names for all of his answers :( (probably autistic)"
      ],
      "metadata": {
        "id": "dhGMSOuxY-1X"
      },
      "execution_count": null,
      "outputs": []
    },
    {
      "cell_type": "code",
      "source": [
        "for col in traincsv.columns:\n",
        "  if col not in ('age', 'result'):\n",
        "    print(f'{col}: {traincsv[col].unique()}')"
      ],
      "metadata": {
        "colab": {
          "base_uri": "https://localhost:8080/"
        },
        "id": "NDGNtcaCWoxG",
        "outputId": "2e91db82-ad5a-4d51-ecf2-156158823ac4"
      },
      "execution_count": null,
      "outputs": [
        {
          "output_type": "stream",
          "name": "stdout",
          "text": [
            "A1_Score: ['1' '0']\n",
            "A2_Score: ['0' '1']\n",
            "A3_Score: ['1' '0']\n",
            "A4_Score: ['0' '1']\n",
            "A5_Score: ['1' '0']\n",
            "A6_Score: ['0' '1']\n",
            "A7_Score: ['1' '0']\n",
            "A8_Score: ['0' '1']\n",
            "A9_Score: ['1' '0']\n",
            "A10_Score: ['1' '0']\n",
            "gender: ['f' 'm']\n",
            "ethnicity: ['?' 'White-European' 'Middle Eastern ' 'Pasifika' 'Black' 'Others'\n",
            " 'Hispanic' 'Asian' 'Turkish' 'South Asian' 'Latino' 'others'\n",
            " \"'Middle Eastern '\" \"'South Asian'\"]\n",
            "jaundice: ['no' 'yes']\n",
            "austim: ['no' 'yes']\n",
            "contry_of_res: ['Austria' 'India' 'United States' 'South Africa' 'Jordan'\n",
            " 'United Kingdom' 'Brazil' 'New Zealand' 'Canada' 'Kazakhstan'\n",
            " 'United Arab Emirates' 'Australia' 'Ukraine' 'Iraq' 'France' 'Malaysia'\n",
            " 'Viet Nam' 'Egypt' 'Netherlands' 'Afghanistan' 'Oman' 'Italy'\n",
            " 'AmericanSamoa' 'Bahamas' 'Saudi Arabia' 'Ireland' 'Aruba' 'Sri Lanka'\n",
            " 'Russia' 'Bolivia' 'Azerbaijan' 'Armenia' 'Serbia' 'Ethiopia' 'Sweden'\n",
            " 'Iceland' 'Hong Kong' 'Angola' 'China' 'Germany' 'Spain' 'Tonga'\n",
            " 'Pakistan' 'Iran' 'Argentina' 'Japan' 'Mexico' 'Nicaragua' 'Sierra Leone'\n",
            " 'Czech Republic' 'Niger' 'Romania' 'Cyprus' 'Belgium' 'Burundi'\n",
            " 'Bangladesh' \"'United States'\" \"'United Kingdom'\" 'Bahrain' 'Kuwait'\n",
            " \"'United Arab Emirates'\" 'Europe' 'Malta' 'Bulgaria' \"'South Africa'\"\n",
            " 'Georgia' \"'New Zealand'\" 'Syria' \"'Saudi Arabia'\" 'Turkey'\n",
            " \"'South Korea'\" \"'Costa Rica'\" 'Philippines' 'Qatar' 'Lebanon' 'Latvia'\n",
            " 'Nigeria' \"'U.S. Outlying Islands'\" 'Nepal' \"'Isle of Man'\" 'Libya'\n",
            " 'Ghana' 'Bhutan' 'Albania' 'Croatia' 'Indonesia' 'Greenland' \"'Viet Nam'\"\n",
            " 'Comoros' 'Portugal' 'Finland' 'Norway' 'Anguilla' 'Chile' \"'Sri Lanka'\"\n",
            " \"'Sierra Leone'\" \"'Hong Kong'\" 'Uruguay' 'Ecuador' \"'Czech Republic'\"\n",
            " 'Costa Rica']\n",
            "used_app_before: ['no' 'yes']\n",
            "age_desc: ['18 and more' \"'4-11 years'\" \"'12-16 years'\" \"'12-15 years'\"\n",
            " \"'18 and more'\"]\n",
            "relation: ['Self' 'Relative' 'Parent' '?' 'Others' 'Health care professional'\n",
            " \"'Health care professional'\" 'self']\n",
            "Class/ASD: ['0' '1']\n"
          ]
        }
      ]
    },
    {
      "cell_type": "code",
      "source": [
        "def fill_na_with_column_average(df, column_name):\n",
        "    average = df[column_name].dropna().mean()\n",
        "    df[column_name] = df[column_name].fillna(average)\n",
        "    num_nan_after_replacement = df[column_name].isna().sum()\n",
        "    print(num_nan_after_replacement)\n",
        "    return df"
      ],
      "metadata": {
        "id": "BbFNHqIfja9S"
      },
      "execution_count": null,
      "outputs": []
    },
    {
      "cell_type": "code",
      "source": [
        "def fill_null_values_with_probabilities(df, column_name, replacement_strings, replacement_probabilities):\n",
        "    num_null_values = df[column_name].isnull().sum()\n",
        "    replacement_distribution = np.random.choice(replacement_strings, size=num_null_values, p=replacement_probabilities)\n",
        "    df[column_name].fillna(pd.Series(replacement_distribution, index=df.index[df[column_name].isnull()]), inplace=True)\n",
        "    return df"
      ],
      "metadata": {
        "id": "Pi0tR2LElsuQ"
      },
      "execution_count": null,
      "outputs": []
    },
    {
      "cell_type": "code",
      "source": [
        "traincsv['jaundice'] = traincsv['jaundice'].replace({\"no\":0, \"yes\":1})\n",
        "traincsv['gender'] = traincsv['gender'].replace({\"m\":1, \"f\":0})\n",
        "traincsv['used_app_before'] = traincsv['used_app_before'].replace({'no':0,\"yes\":1})\n",
        "traincsv['relation'] = traincsv['relation'].replace({\"Others\":\"others\",\"Self\":\"self\", \"'Health care professional'\":\"Health care professional\", \"?\":\"others\"})\n",
        "traincsv['ethnicity']=traincsv['ethnicity'].replace({\"Others\": \"others\", \"?\":\"others\", \"'Middle Eastern '\":\"Middle Eastern \", \"Middle Eastern\":\"Middle Eastern \", \"'South Asian'\":\"South Asian\"})\n",
        "traincsv['age_desc'] = traincsv['age_desc'].replace({\"'12-15 years'\":\"'12-16 years'\", \"18 and more\":\"'18 and more'\"})\n",
        "traincsv['austim']=traincsv['austim'].replace({'yes':1, 'no':0})\n",
        "traincsv['age']=traincsv['age'].replace({'?':None})\n",
        "traincsv['age']=traincsv['age'].astype(np.float64)\n",
        "traincsv=fill_na_with_column_average(traincsv, 'age')\n",
        "\n",
        "for i in range(10):\n",
        "  traincsv[f'A{i+1}_Score']=traincsv[f'A{i+1}_Score'].apply(lambda x: int(x))\n",
        "results=traincsv[['A1_Score', 'A2_Score', 'A3_Score', 'A4_Score', 'A5_Score', 'A6_Score', 'A7_Score', 'A8_Score', 'A9_Score', 'A10_Score']].sum(axis=1)\n",
        "traincsv['result']=results\n",
        "\n",
        "traincsv['ethnicity'] = traincsv['ethnicity'].replace('others', None)\n",
        "traincsv['relation'] = traincsv['relation'].replace('others', None)\n",
        "traincsv = fill_null_values_with_probabilities(traincsv, 'ethnicity', ['White-European','Asian', 'Middle Eastern ','South Asian','Latino','Pasifika','Hispanic','Turkish'], [0.45, 0.17, 0.15,0.10,0.05,0.05,0.02,0.01])\n",
        "traincsv = fill_null_values_with_probabilities(traincsv, 'relation', ['self','Parent','Relative','Health care professional'], [0.76,0.19,0.04,0.01])\n",
        "\n",
        "traincsv=traincsv.drop(['contry_of_res'], axis=1)"
      ],
      "metadata": {
        "id": "o8FS6lN5TLNy",
        "colab": {
          "base_uri": "https://localhost:8080/"
        },
        "outputId": "8580848f-29dd-403c-9f4c-c17707b9a3d1"
      },
      "execution_count": null,
      "outputs": [
        {
          "output_type": "stream",
          "name": "stdout",
          "text": [
            "0\n"
          ]
        }
      ]
    },
    {
      "cell_type": "code",
      "source": [
        "traincsv=pd.get_dummies(traincsv, columns=['ethnicity', 'age_desc', 'relation'])"
      ],
      "metadata": {
        "id": "nq4OhOy5P0kj"
      },
      "execution_count": null,
      "outputs": []
    },
    {
      "cell_type": "code",
      "source": [
        "traincsv.head()"
      ],
      "metadata": {
        "id": "3WxmgX29WItl",
        "colab": {
          "base_uri": "https://localhost:8080/",
          "height": 290
        },
        "outputId": "a43aa95f-eb56-45cb-fbe2-037d172cb9fc"
      },
      "execution_count": null,
      "outputs": [
        {
          "output_type": "execute_result",
          "data": {
            "text/plain": [
              "   A1_Score  A2_Score  A3_Score  A4_Score  A5_Score  A6_Score  A7_Score  \\\n",
              "0         1         0         1         0         1         0         1   \n",
              "1         0         0         0         0         0         0         0   \n",
              "2         1         1         1         1         1         1         1   \n",
              "3         0         0         0         0         0         0         0   \n",
              "4         0         0         0         0         0         0         0   \n",
              "\n",
              "   A8_Score  A9_Score  A10_Score  ...  ethnicity_South Asian  \\\n",
              "0         0         1          1  ...                      0   \n",
              "1         0         0          0  ...                      0   \n",
              "2         1         1          1  ...                      0   \n",
              "3         0         0          0  ...                      0   \n",
              "4         0         0          0  ...                      0   \n",
              "\n",
              "   ethnicity_Turkish  ethnicity_White-European  age_desc_'12-16 years'  \\\n",
              "0                  0                         1                       0   \n",
              "1                  0                         1                       0   \n",
              "2                  0                         1                       0   \n",
              "3                  0                         1                       0   \n",
              "4                  0                         0                       0   \n",
              "\n",
              "   age_desc_'18 and more'  age_desc_'4-11 years'  \\\n",
              "0                       1                      0   \n",
              "1                       1                      0   \n",
              "2                       1                      0   \n",
              "3                       1                      0   \n",
              "4                       1                      0   \n",
              "\n",
              "  relation_Health care professional  relation_Parent  relation_Relative  \\\n",
              "0                                 0                0                  0   \n",
              "1                                 0                0                  0   \n",
              "2                                 0                0                  0   \n",
              "3                                 0                0                  0   \n",
              "4                                 0                0                  0   \n",
              "\n",
              "   relation_self  \n",
              "0              1  \n",
              "1              1  \n",
              "2              1  \n",
              "3              1  \n",
              "4              1  \n",
              "\n",
              "[5 rows x 33 columns]"
            ],
            "text/html": [
              "\n",
              "  <div id=\"df-3d3e0c5a-8f0d-47a7-bd16-f1b09cc16c8a\" class=\"colab-df-container\">\n",
              "    <div>\n",
              "<style scoped>\n",
              "    .dataframe tbody tr th:only-of-type {\n",
              "        vertical-align: middle;\n",
              "    }\n",
              "\n",
              "    .dataframe tbody tr th {\n",
              "        vertical-align: top;\n",
              "    }\n",
              "\n",
              "    .dataframe thead th {\n",
              "        text-align: right;\n",
              "    }\n",
              "</style>\n",
              "<table border=\"1\" class=\"dataframe\">\n",
              "  <thead>\n",
              "    <tr style=\"text-align: right;\">\n",
              "      <th></th>\n",
              "      <th>A1_Score</th>\n",
              "      <th>A2_Score</th>\n",
              "      <th>A3_Score</th>\n",
              "      <th>A4_Score</th>\n",
              "      <th>A5_Score</th>\n",
              "      <th>A6_Score</th>\n",
              "      <th>A7_Score</th>\n",
              "      <th>A8_Score</th>\n",
              "      <th>A9_Score</th>\n",
              "      <th>A10_Score</th>\n",
              "      <th>...</th>\n",
              "      <th>ethnicity_South Asian</th>\n",
              "      <th>ethnicity_Turkish</th>\n",
              "      <th>ethnicity_White-European</th>\n",
              "      <th>age_desc_'12-16 years'</th>\n",
              "      <th>age_desc_'18 and more'</th>\n",
              "      <th>age_desc_'4-11 years'</th>\n",
              "      <th>relation_Health care professional</th>\n",
              "      <th>relation_Parent</th>\n",
              "      <th>relation_Relative</th>\n",
              "      <th>relation_self</th>\n",
              "    </tr>\n",
              "  </thead>\n",
              "  <tbody>\n",
              "    <tr>\n",
              "      <th>0</th>\n",
              "      <td>1</td>\n",
              "      <td>0</td>\n",
              "      <td>1</td>\n",
              "      <td>0</td>\n",
              "      <td>1</td>\n",
              "      <td>0</td>\n",
              "      <td>1</td>\n",
              "      <td>0</td>\n",
              "      <td>1</td>\n",
              "      <td>1</td>\n",
              "      <td>...</td>\n",
              "      <td>0</td>\n",
              "      <td>0</td>\n",
              "      <td>1</td>\n",
              "      <td>0</td>\n",
              "      <td>1</td>\n",
              "      <td>0</td>\n",
              "      <td>0</td>\n",
              "      <td>0</td>\n",
              "      <td>0</td>\n",
              "      <td>1</td>\n",
              "    </tr>\n",
              "    <tr>\n",
              "      <th>1</th>\n",
              "      <td>0</td>\n",
              "      <td>0</td>\n",
              "      <td>0</td>\n",
              "      <td>0</td>\n",
              "      <td>0</td>\n",
              "      <td>0</td>\n",
              "      <td>0</td>\n",
              "      <td>0</td>\n",
              "      <td>0</td>\n",
              "      <td>0</td>\n",
              "      <td>...</td>\n",
              "      <td>0</td>\n",
              "      <td>0</td>\n",
              "      <td>1</td>\n",
              "      <td>0</td>\n",
              "      <td>1</td>\n",
              "      <td>0</td>\n",
              "      <td>0</td>\n",
              "      <td>0</td>\n",
              "      <td>0</td>\n",
              "      <td>1</td>\n",
              "    </tr>\n",
              "    <tr>\n",
              "      <th>2</th>\n",
              "      <td>1</td>\n",
              "      <td>1</td>\n",
              "      <td>1</td>\n",
              "      <td>1</td>\n",
              "      <td>1</td>\n",
              "      <td>1</td>\n",
              "      <td>1</td>\n",
              "      <td>1</td>\n",
              "      <td>1</td>\n",
              "      <td>1</td>\n",
              "      <td>...</td>\n",
              "      <td>0</td>\n",
              "      <td>0</td>\n",
              "      <td>1</td>\n",
              "      <td>0</td>\n",
              "      <td>1</td>\n",
              "      <td>0</td>\n",
              "      <td>0</td>\n",
              "      <td>0</td>\n",
              "      <td>0</td>\n",
              "      <td>1</td>\n",
              "    </tr>\n",
              "    <tr>\n",
              "      <th>3</th>\n",
              "      <td>0</td>\n",
              "      <td>0</td>\n",
              "      <td>0</td>\n",
              "      <td>0</td>\n",
              "      <td>0</td>\n",
              "      <td>0</td>\n",
              "      <td>0</td>\n",
              "      <td>0</td>\n",
              "      <td>0</td>\n",
              "      <td>0</td>\n",
              "      <td>...</td>\n",
              "      <td>0</td>\n",
              "      <td>0</td>\n",
              "      <td>1</td>\n",
              "      <td>0</td>\n",
              "      <td>1</td>\n",
              "      <td>0</td>\n",
              "      <td>0</td>\n",
              "      <td>0</td>\n",
              "      <td>0</td>\n",
              "      <td>1</td>\n",
              "    </tr>\n",
              "    <tr>\n",
              "      <th>4</th>\n",
              "      <td>0</td>\n",
              "      <td>0</td>\n",
              "      <td>0</td>\n",
              "      <td>0</td>\n",
              "      <td>0</td>\n",
              "      <td>0</td>\n",
              "      <td>0</td>\n",
              "      <td>0</td>\n",
              "      <td>0</td>\n",
              "      <td>0</td>\n",
              "      <td>...</td>\n",
              "      <td>0</td>\n",
              "      <td>0</td>\n",
              "      <td>0</td>\n",
              "      <td>0</td>\n",
              "      <td>1</td>\n",
              "      <td>0</td>\n",
              "      <td>0</td>\n",
              "      <td>0</td>\n",
              "      <td>0</td>\n",
              "      <td>1</td>\n",
              "    </tr>\n",
              "  </tbody>\n",
              "</table>\n",
              "<p>5 rows × 33 columns</p>\n",
              "</div>\n",
              "    <div class=\"colab-df-buttons\">\n",
              "\n",
              "  <div class=\"colab-df-container\">\n",
              "    <button class=\"colab-df-convert\" onclick=\"convertToInteractive('df-3d3e0c5a-8f0d-47a7-bd16-f1b09cc16c8a')\"\n",
              "            title=\"Convert this dataframe to an interactive table.\"\n",
              "            style=\"display:none;\">\n",
              "\n",
              "  <svg xmlns=\"http://www.w3.org/2000/svg\" height=\"24px\" viewBox=\"0 -960 960 960\">\n",
              "    <path d=\"M120-120v-720h720v720H120Zm60-500h600v-160H180v160Zm220 220h160v-160H400v160Zm0 220h160v-160H400v160ZM180-400h160v-160H180v160Zm440 0h160v-160H620v160ZM180-180h160v-160H180v160Zm440 0h160v-160H620v160Z\"/>\n",
              "  </svg>\n",
              "    </button>\n",
              "\n",
              "  <style>\n",
              "    .colab-df-container {\n",
              "      display:flex;\n",
              "      gap: 12px;\n",
              "    }\n",
              "\n",
              "    .colab-df-convert {\n",
              "      background-color: #E8F0FE;\n",
              "      border: none;\n",
              "      border-radius: 50%;\n",
              "      cursor: pointer;\n",
              "      display: none;\n",
              "      fill: #1967D2;\n",
              "      height: 32px;\n",
              "      padding: 0 0 0 0;\n",
              "      width: 32px;\n",
              "    }\n",
              "\n",
              "    .colab-df-convert:hover {\n",
              "      background-color: #E2EBFA;\n",
              "      box-shadow: 0px 1px 2px rgba(60, 64, 67, 0.3), 0px 1px 3px 1px rgba(60, 64, 67, 0.15);\n",
              "      fill: #174EA6;\n",
              "    }\n",
              "\n",
              "    .colab-df-buttons div {\n",
              "      margin-bottom: 4px;\n",
              "    }\n",
              "\n",
              "    [theme=dark] .colab-df-convert {\n",
              "      background-color: #3B4455;\n",
              "      fill: #D2E3FC;\n",
              "    }\n",
              "\n",
              "    [theme=dark] .colab-df-convert:hover {\n",
              "      background-color: #434B5C;\n",
              "      box-shadow: 0px 1px 3px 1px rgba(0, 0, 0, 0.15);\n",
              "      filter: drop-shadow(0px 1px 2px rgba(0, 0, 0, 0.3));\n",
              "      fill: #FFFFFF;\n",
              "    }\n",
              "  </style>\n",
              "\n",
              "    <script>\n",
              "      const buttonEl =\n",
              "        document.querySelector('#df-3d3e0c5a-8f0d-47a7-bd16-f1b09cc16c8a button.colab-df-convert');\n",
              "      buttonEl.style.display =\n",
              "        google.colab.kernel.accessAllowed ? 'block' : 'none';\n",
              "\n",
              "      async function convertToInteractive(key) {\n",
              "        const element = document.querySelector('#df-3d3e0c5a-8f0d-47a7-bd16-f1b09cc16c8a');\n",
              "        const dataTable =\n",
              "          await google.colab.kernel.invokeFunction('convertToInteractive',\n",
              "                                                    [key], {});\n",
              "        if (!dataTable) return;\n",
              "\n",
              "        const docLinkHtml = 'Like what you see? Visit the ' +\n",
              "          '<a target=\"_blank\" href=https://colab.research.google.com/notebooks/data_table.ipynb>data table notebook</a>'\n",
              "          + ' to learn more about interactive tables.';\n",
              "        element.innerHTML = '';\n",
              "        dataTable['output_type'] = 'display_data';\n",
              "        await google.colab.output.renderOutput(dataTable, element);\n",
              "        const docLink = document.createElement('div');\n",
              "        docLink.innerHTML = docLinkHtml;\n",
              "        element.appendChild(docLink);\n",
              "      }\n",
              "    </script>\n",
              "  </div>\n",
              "\n",
              "\n",
              "<div id=\"df-819f87ac-a509-4826-9283-2304861a19fe\">\n",
              "  <button class=\"colab-df-quickchart\" onclick=\"quickchart('df-819f87ac-a509-4826-9283-2304861a19fe')\"\n",
              "            title=\"Suggest charts.\"\n",
              "            style=\"display:none;\">\n",
              "\n",
              "<svg xmlns=\"http://www.w3.org/2000/svg\" height=\"24px\"viewBox=\"0 0 24 24\"\n",
              "     width=\"24px\">\n",
              "    <g>\n",
              "        <path d=\"M19 3H5c-1.1 0-2 .9-2 2v14c0 1.1.9 2 2 2h14c1.1 0 2-.9 2-2V5c0-1.1-.9-2-2-2zM9 17H7v-7h2v7zm4 0h-2V7h2v10zm4 0h-2v-4h2v4z\"/>\n",
              "    </g>\n",
              "</svg>\n",
              "  </button>\n",
              "\n",
              "<style>\n",
              "  .colab-df-quickchart {\n",
              "      --bg-color: #E8F0FE;\n",
              "      --fill-color: #1967D2;\n",
              "      --hover-bg-color: #E2EBFA;\n",
              "      --hover-fill-color: #174EA6;\n",
              "      --disabled-fill-color: #AAA;\n",
              "      --disabled-bg-color: #DDD;\n",
              "  }\n",
              "\n",
              "  [theme=dark] .colab-df-quickchart {\n",
              "      --bg-color: #3B4455;\n",
              "      --fill-color: #D2E3FC;\n",
              "      --hover-bg-color: #434B5C;\n",
              "      --hover-fill-color: #FFFFFF;\n",
              "      --disabled-bg-color: #3B4455;\n",
              "      --disabled-fill-color: #666;\n",
              "  }\n",
              "\n",
              "  .colab-df-quickchart {\n",
              "    background-color: var(--bg-color);\n",
              "    border: none;\n",
              "    border-radius: 50%;\n",
              "    cursor: pointer;\n",
              "    display: none;\n",
              "    fill: var(--fill-color);\n",
              "    height: 32px;\n",
              "    padding: 0;\n",
              "    width: 32px;\n",
              "  }\n",
              "\n",
              "  .colab-df-quickchart:hover {\n",
              "    background-color: var(--hover-bg-color);\n",
              "    box-shadow: 0 1px 2px rgba(60, 64, 67, 0.3), 0 1px 3px 1px rgba(60, 64, 67, 0.15);\n",
              "    fill: var(--button-hover-fill-color);\n",
              "  }\n",
              "\n",
              "  .colab-df-quickchart-complete:disabled,\n",
              "  .colab-df-quickchart-complete:disabled:hover {\n",
              "    background-color: var(--disabled-bg-color);\n",
              "    fill: var(--disabled-fill-color);\n",
              "    box-shadow: none;\n",
              "  }\n",
              "\n",
              "  .colab-df-spinner {\n",
              "    border: 2px solid var(--fill-color);\n",
              "    border-color: transparent;\n",
              "    border-bottom-color: var(--fill-color);\n",
              "    animation:\n",
              "      spin 1s steps(1) infinite;\n",
              "  }\n",
              "\n",
              "  @keyframes spin {\n",
              "    0% {\n",
              "      border-color: transparent;\n",
              "      border-bottom-color: var(--fill-color);\n",
              "      border-left-color: var(--fill-color);\n",
              "    }\n",
              "    20% {\n",
              "      border-color: transparent;\n",
              "      border-left-color: var(--fill-color);\n",
              "      border-top-color: var(--fill-color);\n",
              "    }\n",
              "    30% {\n",
              "      border-color: transparent;\n",
              "      border-left-color: var(--fill-color);\n",
              "      border-top-color: var(--fill-color);\n",
              "      border-right-color: var(--fill-color);\n",
              "    }\n",
              "    40% {\n",
              "      border-color: transparent;\n",
              "      border-right-color: var(--fill-color);\n",
              "      border-top-color: var(--fill-color);\n",
              "    }\n",
              "    60% {\n",
              "      border-color: transparent;\n",
              "      border-right-color: var(--fill-color);\n",
              "    }\n",
              "    80% {\n",
              "      border-color: transparent;\n",
              "      border-right-color: var(--fill-color);\n",
              "      border-bottom-color: var(--fill-color);\n",
              "    }\n",
              "    90% {\n",
              "      border-color: transparent;\n",
              "      border-bottom-color: var(--fill-color);\n",
              "    }\n",
              "  }\n",
              "</style>\n",
              "\n",
              "  <script>\n",
              "    async function quickchart(key) {\n",
              "      const quickchartButtonEl =\n",
              "        document.querySelector('#' + key + ' button');\n",
              "      quickchartButtonEl.disabled = true;  // To prevent multiple clicks.\n",
              "      quickchartButtonEl.classList.add('colab-df-spinner');\n",
              "      try {\n",
              "        const charts = await google.colab.kernel.invokeFunction(\n",
              "            'suggestCharts', [key], {});\n",
              "      } catch (error) {\n",
              "        console.error('Error during call to suggestCharts:', error);\n",
              "      }\n",
              "      quickchartButtonEl.classList.remove('colab-df-spinner');\n",
              "      quickchartButtonEl.classList.add('colab-df-quickchart-complete');\n",
              "    }\n",
              "    (() => {\n",
              "      let quickchartButtonEl =\n",
              "        document.querySelector('#df-819f87ac-a509-4826-9283-2304861a19fe button');\n",
              "      quickchartButtonEl.style.display =\n",
              "        google.colab.kernel.accessAllowed ? 'block' : 'none';\n",
              "    })();\n",
              "  </script>\n",
              "</div>\n",
              "    </div>\n",
              "  </div>\n"
            ]
          },
          "metadata": {},
          "execution_count": 591
        }
      ]
    },
    {
      "cell_type": "code",
      "source": [
        "len(traincsv.columns)"
      ],
      "metadata": {
        "colab": {
          "base_uri": "https://localhost:8080/"
        },
        "id": "9tPhx0hmRZXS",
        "outputId": "ce414941-73ce-44d2-d4c8-e8e3bd193594"
      },
      "execution_count": null,
      "outputs": [
        {
          "output_type": "execute_result",
          "data": {
            "text/plain": [
              "33"
            ]
          },
          "metadata": {},
          "execution_count": 592
        }
      ]
    },
    {
      "cell_type": "code",
      "source": [
        "traincsv['austim'].value_counts()"
      ],
      "metadata": {
        "colab": {
          "base_uri": "https://localhost:8080/"
        },
        "id": "HBIyKJCyePIZ",
        "outputId": "b9e14488-4032-40af-bf49-97f88dd57454"
      },
      "execution_count": null,
      "outputs": [
        {
          "output_type": "execute_result",
          "data": {
            "text/plain": [
              "0    3140\n",
              "1     556\n",
              "Name: austim, dtype: int64"
            ]
          },
          "metadata": {},
          "execution_count": 593
        }
      ]
    },
    {
      "cell_type": "code",
      "source": [
        "traincsv['Class/ASD'].value_counts()"
      ],
      "metadata": {
        "colab": {
          "base_uri": "https://localhost:8080/"
        },
        "id": "ybyKXPKlehdF",
        "outputId": "82d6aff6-d36a-4973-89dc-8cd86c338284"
      },
      "execution_count": null,
      "outputs": [
        {
          "output_type": "execute_result",
          "data": {
            "text/plain": [
              "0    2651\n",
              "1    1045\n",
              "Name: Class/ASD, dtype: int64"
            ]
          },
          "metadata": {},
          "execution_count": 594
        }
      ]
    },
    {
      "cell_type": "code",
      "source": [
        "traincsv.columns"
      ],
      "metadata": {
        "id": "tB_ZCkuESrDv",
        "colab": {
          "base_uri": "https://localhost:8080/"
        },
        "outputId": "a8b57c91-e4b6-4044-c0b9-38b1f81b0568"
      },
      "execution_count": null,
      "outputs": [
        {
          "output_type": "execute_result",
          "data": {
            "text/plain": [
              "Index(['A1_Score', 'A2_Score', 'A3_Score', 'A4_Score', 'A5_Score', 'A6_Score',\n",
              "       'A7_Score', 'A8_Score', 'A9_Score', 'A10_Score', 'age', 'gender',\n",
              "       'jaundice', 'austim', 'used_app_before', 'result', 'Class/ASD',\n",
              "       'ethnicity_Asian', 'ethnicity_Black', 'ethnicity_Hispanic',\n",
              "       'ethnicity_Latino', 'ethnicity_Middle Eastern ', 'ethnicity_Pasifika',\n",
              "       'ethnicity_South Asian', 'ethnicity_Turkish',\n",
              "       'ethnicity_White-European', 'age_desc_'12-16 years'',\n",
              "       'age_desc_'18 and more'', 'age_desc_'4-11 years'',\n",
              "       'relation_Health care professional', 'relation_Parent',\n",
              "       'relation_Relative', 'relation_self'],\n",
              "      dtype='object')"
            ]
          },
          "metadata": {},
          "execution_count": 595
        }
      ]
    },
    {
      "cell_type": "code",
      "source": [
        "traincsv['Class/ASD']=traincsv['Class/ASD'].replace({'1':1, '0':0})\n",
        "for col in traincsv.columns:\n",
        "  if col not in ('age', 'result'):\n",
        "    print(f'{col}: {traincsv[col].unique()}')"
      ],
      "metadata": {
        "colab": {
          "base_uri": "https://localhost:8080/"
        },
        "id": "lV91_zwfg_Qu",
        "outputId": "68a27b0f-5a00-4558-de73-9162c536aef0"
      },
      "execution_count": null,
      "outputs": [
        {
          "output_type": "stream",
          "name": "stdout",
          "text": [
            "A1_Score: [1 0]\n",
            "A2_Score: [0 1]\n",
            "A3_Score: [1 0]\n",
            "A4_Score: [0 1]\n",
            "A5_Score: [1 0]\n",
            "A6_Score: [0 1]\n",
            "A7_Score: [1 0]\n",
            "A8_Score: [0 1]\n",
            "A9_Score: [1 0]\n",
            "A10_Score: [1 0]\n",
            "gender: [0 1]\n",
            "jaundice: [0 1]\n",
            "austim: [0 1]\n",
            "used_app_before: [0 1]\n",
            "Class/ASD: [0 1]\n",
            "ethnicity_Asian: [0 1]\n",
            "ethnicity_Black: [0 1]\n",
            "ethnicity_Hispanic: [0 1]\n",
            "ethnicity_Latino: [0 1]\n",
            "ethnicity_Middle Eastern : [0 1]\n",
            "ethnicity_Pasifika: [0 1]\n",
            "ethnicity_South Asian: [0 1]\n",
            "ethnicity_Turkish: [0 1]\n",
            "ethnicity_White-European: [1 0]\n",
            "age_desc_'12-16 years': [0 1]\n",
            "age_desc_'18 and more': [1 0]\n",
            "age_desc_'4-11 years': [0 1]\n",
            "relation_Health care professional: [0 1]\n",
            "relation_Parent: [0 1]\n",
            "relation_Relative: [0 1]\n",
            "relation_self: [1 0]\n"
          ]
        }
      ]
    },
    {
      "cell_type": "code",
      "source": [
        "min_max={}\n",
        "for col in traincsv.columns:\n",
        "  traincsv[col].astype(np.float64)\n",
        "  min_max[col]=(traincsv[col].min(), traincsv[col].max())"
      ],
      "metadata": {
        "id": "bqRjorstZ5zp"
      },
      "execution_count": null,
      "outputs": []
    },
    {
      "cell_type": "code",
      "source": [
        "traincsv=(traincsv-traincsv.min())/(traincsv.max()-traincsv.min())\n",
        "X=traincsv.drop(['Class/ASD'], axis=1)\n",
        "y=traincsv['Class/ASD']"
      ],
      "metadata": {
        "id": "XBMXdz0p-LH7"
      },
      "execution_count": null,
      "outputs": []
    },
    {
      "cell_type": "markdown",
      "source": [
        "# Model Selection"
      ],
      "metadata": {
        "id": "fKDiNLP2xtDx"
      }
    },
    {
      "cell_type": "code",
      "source": [
        "from sklearn.model_selection import train_test_split\n",
        "\n",
        "\n",
        "X_train, X_test, y_train, y_test=train_test_split(X, y, test_size=0.2)"
      ],
      "metadata": {
        "id": "K220tmbCb623"
      },
      "execution_count": null,
      "outputs": []
    },
    {
      "cell_type": "code",
      "source": [
        "#ML models\n",
        "from sklearn.model_selection import train_test_split\n",
        "from sklearn.metrics import accuracy_score\n",
        "from sklearn.ensemble import RandomForestClassifier, GradientBoostingClassifier\n",
        "from sklearn.linear_model import LogisticRegression\n",
        "from sklearn.model_selection import cross_val_score\n",
        "from sklearn.tree import DecisionTreeClassifier\n",
        "from sklearn.svm import SVC\n",
        "from sklearn.naive_bayes import MultinomialNB\n",
        "from sklearn.neural_network import MLPClassifier\n",
        "from sklearn.neighbors import KNeighborsClassifier\n",
        "from sklearn.naive_bayes import GaussianNB\n",
        "from sklearn.discriminant_analysis import LinearDiscriminantAnalysis, QuadraticDiscriminantAnalysis\n",
        "from sklearn.ensemble import AdaBoostClassifier\n",
        "from sklearn.ensemble import BaggingClassifier\n",
        "from sklearn.ensemble import ExtraTreesClassifier\n",
        "from sklearn.linear_model import RidgeClassifier\n",
        "from sklearn.linear_model import SGDClassifier\n",
        "from sklearn.gaussian_process import GaussianProcessClassifier"
      ],
      "metadata": {
        "id": "bk-cvAdCgAIu"
      },
      "execution_count": null,
      "outputs": []
    },
    {
      "cell_type": "code",
      "source": [
        "models=[\n",
        "    RandomForestClassifier(),\n",
        "    GradientBoostingClassifier(),\n",
        "    LogisticRegression(),\n",
        "    DecisionTreeClassifier(),\n",
        "    SVC(),\n",
        "    MultinomialNB(),\n",
        "    MLPClassifier(),\n",
        "    KNeighborsClassifier(),\n",
        "    GaussianNB(),\n",
        "    LinearDiscriminantAnalysis(),\n",
        "    QuadraticDiscriminantAnalysis(),\n",
        "    AdaBoostClassifier(),\n",
        "    BaggingClassifier(),\n",
        "    ExtraTreesClassifier(),\n",
        "    RidgeClassifier(),\n",
        "    SGDClassifier(),\n",
        "    GaussianProcessClassifier()\n",
        "]"
      ],
      "metadata": {
        "id": "oqCwTF32fycM"
      },
      "execution_count": null,
      "outputs": []
    },
    {
      "cell_type": "code",
      "source": [
        "X.info()"
      ],
      "metadata": {
        "colab": {
          "base_uri": "https://localhost:8080/"
        },
        "id": "YDGZT00HohMS",
        "outputId": "a8e1eae7-ada5-4ce4-a5b9-aa3cc5da7ae9"
      },
      "execution_count": null,
      "outputs": [
        {
          "output_type": "stream",
          "name": "stdout",
          "text": [
            "<class 'pandas.core.frame.DataFrame'>\n",
            "Int64Index: 3696 entries, 0 to 3696\n",
            "Data columns (total 37 columns):\n",
            " #   Column                             Non-Null Count  Dtype  \n",
            "---  ------                             --------------  -----  \n",
            " 0   A1_Score                           3696 non-null   float64\n",
            " 1   A2_Score                           3696 non-null   float64\n",
            " 2   A3_Score                           3696 non-null   float64\n",
            " 3   A4_Score                           3696 non-null   float64\n",
            " 4   A5_Score                           3696 non-null   float64\n",
            " 5   A6_Score                           3696 non-null   float64\n",
            " 6   A7_Score                           3696 non-null   float64\n",
            " 7   A8_Score                           3696 non-null   float64\n",
            " 8   A9_Score                           3696 non-null   float64\n",
            " 9   A10_Score                          3696 non-null   float64\n",
            " 10  age                                3696 non-null   float64\n",
            " 11  gender                             3696 non-null   float64\n",
            " 12  jaundice                           3696 non-null   float64\n",
            " 13  austim                             3696 non-null   float64\n",
            " 14  used_app_before                    3696 non-null   float64\n",
            " 15  result                             3696 non-null   float64\n",
            " 16  ethnicity_Asian                    3696 non-null   float64\n",
            " 17  ethnicity_Black                    3696 non-null   float64\n",
            " 18  ethnicity_Hispanic                 3696 non-null   float64\n",
            " 19  ethnicity_Latino                   3696 non-null   float64\n",
            " 20  ethnicity_Middle Eastern           3696 non-null   float64\n",
            " 21  ethnicity_Middle Eastern           3696 non-null   float64\n",
            " 22  ethnicity_Pasifika                 3696 non-null   float64\n",
            " 23  ethnicity_South Asian              3696 non-null   float64\n",
            " 24  ethnicity_Turkish                  3696 non-null   float64\n",
            " 25  ethnicity_White-European           3696 non-null   float64\n",
            " 26  age_desc_'12-15 years'             3696 non-null   float64\n",
            " 27  age_desc_'12-16 years'             3696 non-null   float64\n",
            " 28  age_desc_'18 and more'             3696 non-null   float64\n",
            " 29  age_desc_'4-11 years'              3696 non-null   float64\n",
            " 30  age_desc_18 and more               3696 non-null   float64\n",
            " 31  relation_Health care professional  3696 non-null   float64\n",
            " 32  relation_Others                    3696 non-null   float64\n",
            " 33  relation_Parent                    3696 non-null   float64\n",
            " 34  relation_Relative                  3696 non-null   float64\n",
            " 35  relation_others                    3696 non-null   float64\n",
            " 36  relation_self                      3696 non-null   float64\n",
            "dtypes: float64(37)\n",
            "memory usage: 1.1 MB\n"
          ]
        }
      ]
    },
    {
      "cell_type": "code",
      "source": [
        "accuracies = []\n",
        "\n",
        "for model in models:\n",
        "    scores = cross_val_score(model, X, y, cv=5)  # 5-fold cross-validation\n",
        "    accuracy = np.mean(scores)\n",
        "    accuracies.append((model.__class__.__name__, accuracy))\n",
        "    print(model.__class__.__name__, \"done!!\", accuracy)"
      ],
      "metadata": {
        "colab": {
          "base_uri": "https://localhost:8080/"
        },
        "id": "aIL0M38gf-Ey",
        "outputId": "06658568-5086-436f-b10e-653fce36c496"
      },
      "execution_count": null,
      "outputs": [
        {
          "output_type": "stream",
          "name": "stdout",
          "text": [
            "RandomForestClassifier done!! 0.985388582086823\n",
            "GradientBoostingClassifier done!! 0.9426533299199062\n",
            "LogisticRegression done!! 0.8934092820831656\n",
            "DecisionTreeClassifier done!! 0.972939326335808\n",
            "SVC done!! 0.9158673152177889\n",
            "MultinomialNB done!! 0.8246655451120946\n"
          ]
        },
        {
          "output_type": "stream",
          "name": "stderr",
          "text": [
            "/usr/local/lib/python3.10/dist-packages/sklearn/neural_network/_multilayer_perceptron.py:686: ConvergenceWarning: Stochastic Optimizer: Maximum iterations (200) reached and the optimization hasn't converged yet.\n",
            "  warnings.warn(\n",
            "/usr/local/lib/python3.10/dist-packages/sklearn/neural_network/_multilayer_perceptron.py:686: ConvergenceWarning: Stochastic Optimizer: Maximum iterations (200) reached and the optimization hasn't converged yet.\n",
            "  warnings.warn(\n",
            "/usr/local/lib/python3.10/dist-packages/sklearn/neural_network/_multilayer_perceptron.py:686: ConvergenceWarning: Stochastic Optimizer: Maximum iterations (200) reached and the optimization hasn't converged yet.\n",
            "  warnings.warn(\n",
            "/usr/local/lib/python3.10/dist-packages/sklearn/neural_network/_multilayer_perceptron.py:686: ConvergenceWarning: Stochastic Optimizer: Maximum iterations (200) reached and the optimization hasn't converged yet.\n",
            "  warnings.warn(\n",
            "/usr/local/lib/python3.10/dist-packages/sklearn/neural_network/_multilayer_perceptron.py:686: ConvergenceWarning: Stochastic Optimizer: Maximum iterations (200) reached and the optimization hasn't converged yet.\n",
            "  warnings.warn(\n"
          ]
        },
        {
          "output_type": "stream",
          "name": "stdout",
          "text": [
            "MLPClassifier done!! 0.9293918004608127\n",
            "KNeighborsClassifier done!! 0.915055407234027\n",
            "GaussianNB done!! 0.8663493398676078\n",
            "LinearDiscriminantAnalysis done!! 0.8714906923161321\n",
            "QuadraticDiscriminantAnalysis done!! 0.8276505869875287\n"
          ]
        },
        {
          "output_type": "stream",
          "name": "stderr",
          "text": [
            "/usr/local/lib/python3.10/dist-packages/sklearn/discriminant_analysis.py:926: UserWarning: Variables are collinear\n",
            "  warnings.warn(\"Variables are collinear\")\n",
            "/usr/local/lib/python3.10/dist-packages/sklearn/discriminant_analysis.py:926: UserWarning: Variables are collinear\n",
            "  warnings.warn(\"Variables are collinear\")\n",
            "/usr/local/lib/python3.10/dist-packages/sklearn/discriminant_analysis.py:926: UserWarning: Variables are collinear\n",
            "  warnings.warn(\"Variables are collinear\")\n",
            "/usr/local/lib/python3.10/dist-packages/sklearn/discriminant_analysis.py:926: UserWarning: Variables are collinear\n",
            "  warnings.warn(\"Variables are collinear\")\n",
            "/usr/local/lib/python3.10/dist-packages/sklearn/discriminant_analysis.py:926: UserWarning: Variables are collinear\n",
            "  warnings.warn(\"Variables are collinear\")\n"
          ]
        },
        {
          "output_type": "stream",
          "name": "stdout",
          "text": [
            "AdaBoostClassifier done!! 0.9145243755257286\n",
            "BaggingClassifier done!! 0.9742947006546465\n",
            "ExtraTreesClassifier done!! 0.9824112204220459\n",
            "RidgeClassifier done!! 0.873384047105292\n",
            "SGDClassifier done!! 0.8774443184727353\n",
            "GaussianProcessClassifier done!! 0.9204637384339686\n"
          ]
        }
      ]
    },
    {
      "cell_type": "code",
      "source": [
        "\"\"\"\n",
        "RandomForestClassifier done!! 0.985388582086823\n",
        "ExtraTreesClassifier done!! 0.9824112204220459\n",
        "BaggingClassifier done!! 0.9742947006546465\n",
        "DecisionTreeClassifier done!! 0.972939326335808\n",
        "GradientBoostingClassifier done!! 0.9426533299199062\n",
        "\n",
        "MLPClassifier done!! 0.9293918004608127\n",
        "GaussianProcessClassifier done!! 0.9204637384339686\n",
        "SVC done!! 0.9158673152177889\n",
        "KNeighborsClassifier done!! 0.915055407234027\n",
        "AdaBoostClassifier done!! 0.9145243755257286\n",
        "LogisticRegression done!! 0.8934092820831656\n",
        "SGDClassifier done!! 0.8774443184727353\n",
        "RidgeClassifier done!! 0.873384047105292\n",
        "LinearDiscriminantAnalysis done!! 0.8714906923161321\n",
        "GaussianNB done!! 0.8663493398676078\n",
        "QuadraticDiscriminantAnalysis done!! 0.8276505869875287\n",
        "MultinomialNB done!! 0.8246655451120946\n",
        "\n",
        "\"\"\"\n",
        "print()"
      ],
      "metadata": {
        "colab": {
          "base_uri": "https://localhost:8080/"
        },
        "id": "ckJcqEP-qoFU",
        "outputId": "a95d05ef-792f-4169-ff1e-85bfda38c98e"
      },
      "execution_count": null,
      "outputs": [
        {
          "output_type": "stream",
          "name": "stdout",
          "text": [
            "\n"
          ]
        }
      ]
    },
    {
      "cell_type": "markdown",
      "source": [
        "# Test data preprocessing"
      ],
      "metadata": {
        "id": "1AaqJOH7zHm0"
      }
    },
    {
      "cell_type": "code",
      "source": [
        "testcsv=pd.read_csv(\"test_data_without_output.csv\")\n",
        "for col in traincsv.columns:\n",
        "  if col not in ('age', 'result'):\n",
        "    print(f'{col}: {traincsv[col].unique()}')"
      ],
      "metadata": {
        "colab": {
          "base_uri": "https://localhost:8080/"
        },
        "id": "3xaZcpH5zJnt",
        "outputId": "5a5848d1-8356-4e68-bce0-3c3b655306f9"
      },
      "execution_count": null,
      "outputs": [
        {
          "output_type": "stream",
          "name": "stdout",
          "text": [
            "A1_Score: [1. 0.]\n",
            "A2_Score: [0. 1.]\n",
            "A3_Score: [1. 0.]\n",
            "A4_Score: [0. 1.]\n",
            "A5_Score: [1. 0.]\n",
            "A6_Score: [0. 1.]\n",
            "A7_Score: [1. 0.]\n",
            "A8_Score: [0. 1.]\n",
            "A9_Score: [1. 0.]\n",
            "A10_Score: [1. 0.]\n",
            "gender: [0. 1.]\n",
            "jaundice: [0. 1.]\n",
            "austim: [0. 1.]\n",
            "used_app_before: [0. 1.]\n",
            "Class/ASD: [0. 1.]\n",
            "ethnicity_Asian: [0. 1.]\n",
            "ethnicity_Black: [0. 1.]\n",
            "ethnicity_Hispanic: [0. 1.]\n",
            "ethnicity_Latino: [0. 1.]\n",
            "ethnicity_Middle Eastern : [0. 1.]\n",
            "ethnicity_Pasifika: [0. 1.]\n",
            "ethnicity_South Asian: [0. 1.]\n",
            "ethnicity_Turkish: [0. 1.]\n",
            "ethnicity_White-European: [1. 0.]\n",
            "age_desc_'12-16 years': [0. 1.]\n",
            "age_desc_'18 and more': [1. 0.]\n",
            "age_desc_'4-11 years': [0. 1.]\n",
            "relation_Health care professional: [0. 1.]\n",
            "relation_Parent: [0. 1.]\n",
            "relation_Relative: [0. 1.]\n",
            "relation_self: [1. 0.]\n"
          ]
        }
      ]
    },
    {
      "cell_type": "code",
      "source": [
        "testcsv['jaundice'] = testcsv['jaundice'].replace({\"no\":0, \"yes\":1})\n",
        "testcsv['gender'] = testcsv['gender'].replace({\"m\":1, \"f\":0})\n",
        "testcsv['used_app_before'] = testcsv['used_app_before'].replace({'no':0,\"yes\":1})\n",
        "testcsv['relation'] = testcsv['relation'].replace({\"Unkown\":\"others\",\"Others\":\"others\", \"Self\":\"self\", \"'Health care professional'\":\"Health care professional\", \"?\":\"others\"})\n",
        "testcsv['ethnicity']=testcsv['ethnicity'].replace({\"Others\": \"others\", \"?\":\"others\", \"'Middle Eastern '\":\"Middle Eastern \",\"Middle Eastern\":\"Middle Eastern \", \"'South Asian'\":\"South Asian\"})\n",
        "testcsv['age_desc'] = testcsv['age_desc'].replace({\"12-15 years\":\"12-16 years\"})\n",
        "testcsv['austim']=testcsv['austim'].replace({'yes':1, 'no':0})\n",
        "testcsv['age']=testcsv['age'].replace({'?':None})\n",
        "testcsv['age']=testcsv['age'].astype(np.float64)\n",
        "testcsv=fill_na_with_column_average(testcsv, 'age')\n",
        "\n",
        "for i in range(10):\n",
        "  testcsv[f'A{i+1}_Score']=testcsv[f'A{i+1}_Score'].apply(lambda x: int(x))\n",
        "results=testcsv[['A1_Score', 'A2_Score', 'A3_Score', 'A4_Score', 'A5_Score', 'A6_Score', 'A7_Score', 'A8_Score', 'A9_Score', 'A10_Score']].sum(axis=1)\n",
        "testcsv['result']=results\n",
        "\n",
        "testcsv['relation']=testcsv['relation'].replace({'others':None})\n",
        "testcsv['ethnicity'] = testcsv['ethnicity'].replace({'others':None, \"Unkown\":None})\n",
        "testcsv = fill_null_values_with_probabilities(testcsv, 'ethnicity', ['White-European','Asian', 'Middle Eastern ','South Asian','Latino','Pasifika','Hispanic','Turkish'], [0.45, 0.17, 0.15,0.10,0.05,0.05,0.02,0.01])\n",
        "testcsv = fill_null_values_with_probabilities(testcsv, 'relation', ['self','Parent','Relative','Health care professional'], [0.76,0.19,0.04,0.01])\n",
        "\n",
        "testcsv=testcsv.drop(['contry_of_res'], axis=1)"
      ],
      "metadata": {
        "colab": {
          "base_uri": "https://localhost:8080/"
        },
        "id": "hKi1BJSpzqz9",
        "outputId": "2c676b6a-8391-4105-e6a9-d0d250c75012"
      },
      "execution_count": null,
      "outputs": [
        {
          "output_type": "stream",
          "name": "stdout",
          "text": [
            "0\n"
          ]
        }
      ]
    },
    {
      "cell_type": "code",
      "source": [
        "testcsv=pd.get_dummies(testcsv, columns=['ethnicity', 'age_desc', 'relation'])"
      ],
      "metadata": {
        "id": "1tiwDuD80VAZ"
      },
      "execution_count": null,
      "outputs": []
    },
    {
      "cell_type": "code",
      "source": [
        "testcsv.columns"
      ],
      "metadata": {
        "colab": {
          "base_uri": "https://localhost:8080/"
        },
        "id": "hh8zndrI0grK",
        "outputId": "d88d1714-fc44-49ca-c18b-d8a82f784bc0"
      },
      "execution_count": null,
      "outputs": [
        {
          "output_type": "execute_result",
          "data": {
            "text/plain": [
              "Index(['A1_Score', 'A2_Score', 'A3_Score', 'A4_Score', 'A5_Score', 'A6_Score',\n",
              "       'A7_Score', 'A8_Score', 'A9_Score', 'A10_Score', 'age', 'gender',\n",
              "       'jaundice', 'austim', 'used_app_before', 'result', 'ethnicity_Asian',\n",
              "       'ethnicity_Black', 'ethnicity_Hispanic', 'ethnicity_Latino',\n",
              "       'ethnicity_Middle Eastern ', 'ethnicity_Pasifika',\n",
              "       'ethnicity_South Asian', 'ethnicity_Turkish',\n",
              "       'ethnicity_White-European', 'age_desc_12-16 years',\n",
              "       'age_desc_18 and more', 'age_desc_4-11 years',\n",
              "       'relation_Health care professional', 'relation_Parent',\n",
              "       'relation_Relative', 'relation_self'],\n",
              "      dtype='object')"
            ]
          },
          "metadata": {},
          "execution_count": 602
        }
      ]
    },
    {
      "cell_type": "code",
      "source": [
        "traincsv.columns"
      ],
      "metadata": {
        "colab": {
          "base_uri": "https://localhost:8080/"
        },
        "id": "X6amlp2S6nDg",
        "outputId": "694241f0-aec0-496e-c815-271d53ea48d7"
      },
      "execution_count": null,
      "outputs": [
        {
          "output_type": "execute_result",
          "data": {
            "text/plain": [
              "Index(['A1_Score', 'A2_Score', 'A3_Score', 'A4_Score', 'A5_Score', 'A6_Score',\n",
              "       'A7_Score', 'A8_Score', 'A9_Score', 'A10_Score', 'age', 'gender',\n",
              "       'jaundice', 'austim', 'used_app_before', 'result', 'Class/ASD',\n",
              "       'ethnicity_Asian', 'ethnicity_Black', 'ethnicity_Hispanic',\n",
              "       'ethnicity_Latino', 'ethnicity_Middle Eastern ', 'ethnicity_Pasifika',\n",
              "       'ethnicity_South Asian', 'ethnicity_Turkish',\n",
              "       'ethnicity_White-European', 'age_desc_'12-16 years'',\n",
              "       'age_desc_'18 and more'', 'age_desc_'4-11 years'',\n",
              "       'relation_Health care professional', 'relation_Parent',\n",
              "       'relation_Relative', 'relation_self'],\n",
              "      dtype='object')"
            ]
          },
          "metadata": {},
          "execution_count": 603
        }
      ]
    },
    {
      "cell_type": "code",
      "source": [
        "for col in testcsv.columns:\n",
        "  if col not in ('age', 'result'):\n",
        "    print(f'{col}: {testcsv[col].unique()}')"
      ],
      "metadata": {
        "colab": {
          "base_uri": "https://localhost:8080/"
        },
        "id": "ZwDfQqa30moK",
        "outputId": "f49ef50d-2422-44d1-f26b-fcbdd4728399"
      },
      "execution_count": null,
      "outputs": [
        {
          "output_type": "stream",
          "name": "stdout",
          "text": [
            "A1_Score: [1 0]\n",
            "A2_Score: [1 0]\n",
            "A3_Score: [1 0]\n",
            "A4_Score: [1 0]\n",
            "A5_Score: [1 0]\n",
            "A6_Score: [0 1]\n",
            "A7_Score: [1 0]\n",
            "A8_Score: [1 0]\n",
            "A9_Score: [1 0]\n",
            "A10_Score: [1 0]\n",
            "gender: [1 0]\n",
            "jaundice: [1 0]\n",
            "austim: [0 1]\n",
            "used_app_before: [0 1]\n",
            "ethnicity_Asian: [0 1]\n",
            "ethnicity_Black: [0 1]\n",
            "ethnicity_Hispanic: [0 1]\n",
            "ethnicity_Latino: [0 1]\n",
            "ethnicity_Middle Eastern : [1 0]\n",
            "ethnicity_Pasifika: [0 1]\n",
            "ethnicity_South Asian: [0 1]\n",
            "ethnicity_Turkish: [0 1]\n",
            "ethnicity_White-European: [0 1]\n",
            "age_desc_12-16 years: [0 1]\n",
            "age_desc_18 and more: [1 0]\n",
            "age_desc_4-11 years: [0 1]\n",
            "relation_Health care professional: [0 1]\n",
            "relation_Parent: [0 1]\n",
            "relation_Relative: [0 1]\n",
            "relation_self: [1 0]\n"
          ]
        }
      ]
    },
    {
      "cell_type": "code",
      "source": [
        "testcsv=testcsv.rename(columns={\"age_desc_12-16 years\":\"age_desc_'12-16 years'\", \"age_desc_18 and more\":\"age_desc_'18 and more'\", \"age_desc_4-11 years\":\"age_desc_'4-11 years'\"})"
      ],
      "metadata": {
        "id": "GcF8DaeS8jLY"
      },
      "execution_count": null,
      "outputs": []
    },
    {
      "cell_type": "code",
      "source": [
        "for col in testcsv.columns:\n",
        "  testcsv[col]=(testcsv[col]-min_max[col][0])/(min_max[col][1]-min_max[col][0])"
      ],
      "metadata": {
        "id": "uqULdwVR01CQ"
      },
      "execution_count": null,
      "outputs": []
    },
    {
      "cell_type": "code",
      "source": [
        "for coltrain, coltest in zip(X.columns, testcsv.columns):\n",
        "  if coltrain!=coltest:\n",
        "    testcsv=testcsv.rename(columns={coltest:coltrain})"
      ],
      "metadata": {
        "id": "ZmK2j2Kb-0AD"
      },
      "execution_count": null,
      "outputs": []
    },
    {
      "cell_type": "markdown",
      "source": [
        "# Ensemble/Prediction"
      ],
      "metadata": {
        "id": "665Mv80ky5O5"
      }
    },
    {
      "cell_type": "code",
      "source": [
        "!pip install catboost"
      ],
      "metadata": {
        "colab": {
          "base_uri": "https://localhost:8080/"
        },
        "id": "Ze49sXGv_7XJ",
        "outputId": "352d7a21-a7ee-41c4-cb42-e2f542c3c38a"
      },
      "execution_count": null,
      "outputs": [
        {
          "output_type": "stream",
          "name": "stdout",
          "text": [
            "Collecting catboost\n",
            "  Downloading catboost-1.2.1.1-cp310-cp310-manylinux2014_x86_64.whl (98.7 MB)\n",
            "\u001b[2K     \u001b[90m━━━━━━━━━━━━━━━━━━━━━━━━━━━━━━━━━━━━━━━━\u001b[0m \u001b[32m98.7/98.7 MB\u001b[0m \u001b[31m6.3 MB/s\u001b[0m eta \u001b[36m0:00:00\u001b[0m\n",
            "\u001b[?25hRequirement already satisfied: graphviz in /usr/local/lib/python3.10/dist-packages (from catboost) (0.20.1)\n",
            "Requirement already satisfied: matplotlib in /usr/local/lib/python3.10/dist-packages (from catboost) (3.7.1)\n",
            "Requirement already satisfied: numpy>=1.16.0 in /usr/local/lib/python3.10/dist-packages (from catboost) (1.23.5)\n",
            "Requirement already satisfied: pandas>=0.24 in /usr/local/lib/python3.10/dist-packages (from catboost) (1.5.3)\n",
            "Requirement already satisfied: scipy in /usr/local/lib/python3.10/dist-packages (from catboost) (1.11.2)\n",
            "Requirement already satisfied: plotly in /usr/local/lib/python3.10/dist-packages (from catboost) (5.15.0)\n",
            "Requirement already satisfied: six in /usr/local/lib/python3.10/dist-packages (from catboost) (1.16.0)\n",
            "Requirement already satisfied: python-dateutil>=2.8.1 in /usr/local/lib/python3.10/dist-packages (from pandas>=0.24->catboost) (2.8.2)\n",
            "Requirement already satisfied: pytz>=2020.1 in /usr/local/lib/python3.10/dist-packages (from pandas>=0.24->catboost) (2023.3.post1)\n",
            "Requirement already satisfied: contourpy>=1.0.1 in /usr/local/lib/python3.10/dist-packages (from matplotlib->catboost) (1.1.0)\n",
            "Requirement already satisfied: cycler>=0.10 in /usr/local/lib/python3.10/dist-packages (from matplotlib->catboost) (0.11.0)\n",
            "Requirement already satisfied: fonttools>=4.22.0 in /usr/local/lib/python3.10/dist-packages (from matplotlib->catboost) (4.42.1)\n",
            "Requirement already satisfied: kiwisolver>=1.0.1 in /usr/local/lib/python3.10/dist-packages (from matplotlib->catboost) (1.4.5)\n",
            "Requirement already satisfied: packaging>=20.0 in /usr/local/lib/python3.10/dist-packages (from matplotlib->catboost) (23.1)\n",
            "Requirement already satisfied: pillow>=6.2.0 in /usr/local/lib/python3.10/dist-packages (from matplotlib->catboost) (9.4.0)\n",
            "Requirement already satisfied: pyparsing>=2.3.1 in /usr/local/lib/python3.10/dist-packages (from matplotlib->catboost) (3.1.1)\n",
            "Requirement already satisfied: tenacity>=6.2.0 in /usr/local/lib/python3.10/dist-packages (from plotly->catboost) (8.2.3)\n",
            "Installing collected packages: catboost\n",
            "Successfully installed catboost-1.2.1.1\n"
          ]
        }
      ]
    },
    {
      "cell_type": "code",
      "source": [
        "from catboost import CatBoostClassifier\n",
        "models=[\n",
        "    RandomForestClassifier(),\n",
        "    ExtraTreesClassifier(),\n",
        "    BaggingClassifier(),\n",
        "    DecisionTreeClassifier(),\n",
        "    CatBoostClassifier(iterations=4000, eval_metric=\"Accuracy\", verbose=0)\n",
        "]\n",
        "\n",
        "for model in models:\n",
        "  model.fit(X, y)\n",
        "\n",
        "predictions=pd.DataFrame()\n",
        "final_preds=[]\n",
        "for model in models:\n",
        "  pred=model.predict(testcsv)\n",
        "  final_preds.append(pred)\n",
        "  predictions[model.__class__.__name__]=pred"
      ],
      "metadata": {
        "id": "Jee3nL21y5_v"
      },
      "execution_count": null,
      "outputs": []
    },
    {
      "cell_type": "code",
      "source": [
        "predictions"
      ],
      "metadata": {
        "colab": {
          "base_uri": "https://localhost:8080/",
          "height": 424
        },
        "id": "vq29uJYZ91Fn",
        "outputId": "2b7cd760-8fcc-4b84-c3b2-9670334879f8"
      },
      "execution_count": null,
      "outputs": [
        {
          "output_type": "execute_result",
          "data": {
            "text/plain": [
              "     RandomForestClassifier  ExtraTreesClassifier  BaggingClassifier  \\\n",
              "0                       1.0                   1.0                1.0   \n",
              "1                       0.0                   0.0                0.0   \n",
              "2                       1.0                   1.0                1.0   \n",
              "3                       0.0                   0.0                0.0   \n",
              "4                       0.0                   0.0                0.0   \n",
              "..                      ...                   ...                ...   \n",
              "574                     0.0                   0.0                0.0   \n",
              "575                     0.0                   0.0                0.0   \n",
              "576                     0.0                   0.0                0.0   \n",
              "577                     1.0                   1.0                1.0   \n",
              "578                     1.0                   1.0                1.0   \n",
              "\n",
              "     DecisionTreeClassifier  CatBoostClassifier  \n",
              "0                       1.0                 1.0  \n",
              "1                       0.0                 0.0  \n",
              "2                       1.0                 1.0  \n",
              "3                       0.0                 0.0  \n",
              "4                       0.0                 0.0  \n",
              "..                      ...                 ...  \n",
              "574                     0.0                 0.0  \n",
              "575                     0.0                 0.0  \n",
              "576                     0.0                 0.0  \n",
              "577                     1.0                 1.0  \n",
              "578                     1.0                 1.0  \n",
              "\n",
              "[579 rows x 5 columns]"
            ],
            "text/html": [
              "\n",
              "  <div id=\"df-926b08b0-67e7-4224-9fdc-83498eed8dae\" class=\"colab-df-container\">\n",
              "    <div>\n",
              "<style scoped>\n",
              "    .dataframe tbody tr th:only-of-type {\n",
              "        vertical-align: middle;\n",
              "    }\n",
              "\n",
              "    .dataframe tbody tr th {\n",
              "        vertical-align: top;\n",
              "    }\n",
              "\n",
              "    .dataframe thead th {\n",
              "        text-align: right;\n",
              "    }\n",
              "</style>\n",
              "<table border=\"1\" class=\"dataframe\">\n",
              "  <thead>\n",
              "    <tr style=\"text-align: right;\">\n",
              "      <th></th>\n",
              "      <th>RandomForestClassifier</th>\n",
              "      <th>ExtraTreesClassifier</th>\n",
              "      <th>BaggingClassifier</th>\n",
              "      <th>DecisionTreeClassifier</th>\n",
              "      <th>CatBoostClassifier</th>\n",
              "    </tr>\n",
              "  </thead>\n",
              "  <tbody>\n",
              "    <tr>\n",
              "      <th>0</th>\n",
              "      <td>1.0</td>\n",
              "      <td>1.0</td>\n",
              "      <td>1.0</td>\n",
              "      <td>1.0</td>\n",
              "      <td>1.0</td>\n",
              "    </tr>\n",
              "    <tr>\n",
              "      <th>1</th>\n",
              "      <td>0.0</td>\n",
              "      <td>0.0</td>\n",
              "      <td>0.0</td>\n",
              "      <td>0.0</td>\n",
              "      <td>0.0</td>\n",
              "    </tr>\n",
              "    <tr>\n",
              "      <th>2</th>\n",
              "      <td>1.0</td>\n",
              "      <td>1.0</td>\n",
              "      <td>1.0</td>\n",
              "      <td>1.0</td>\n",
              "      <td>1.0</td>\n",
              "    </tr>\n",
              "    <tr>\n",
              "      <th>3</th>\n",
              "      <td>0.0</td>\n",
              "      <td>0.0</td>\n",
              "      <td>0.0</td>\n",
              "      <td>0.0</td>\n",
              "      <td>0.0</td>\n",
              "    </tr>\n",
              "    <tr>\n",
              "      <th>4</th>\n",
              "      <td>0.0</td>\n",
              "      <td>0.0</td>\n",
              "      <td>0.0</td>\n",
              "      <td>0.0</td>\n",
              "      <td>0.0</td>\n",
              "    </tr>\n",
              "    <tr>\n",
              "      <th>...</th>\n",
              "      <td>...</td>\n",
              "      <td>...</td>\n",
              "      <td>...</td>\n",
              "      <td>...</td>\n",
              "      <td>...</td>\n",
              "    </tr>\n",
              "    <tr>\n",
              "      <th>574</th>\n",
              "      <td>0.0</td>\n",
              "      <td>0.0</td>\n",
              "      <td>0.0</td>\n",
              "      <td>0.0</td>\n",
              "      <td>0.0</td>\n",
              "    </tr>\n",
              "    <tr>\n",
              "      <th>575</th>\n",
              "      <td>0.0</td>\n",
              "      <td>0.0</td>\n",
              "      <td>0.0</td>\n",
              "      <td>0.0</td>\n",
              "      <td>0.0</td>\n",
              "    </tr>\n",
              "    <tr>\n",
              "      <th>576</th>\n",
              "      <td>0.0</td>\n",
              "      <td>0.0</td>\n",
              "      <td>0.0</td>\n",
              "      <td>0.0</td>\n",
              "      <td>0.0</td>\n",
              "    </tr>\n",
              "    <tr>\n",
              "      <th>577</th>\n",
              "      <td>1.0</td>\n",
              "      <td>1.0</td>\n",
              "      <td>1.0</td>\n",
              "      <td>1.0</td>\n",
              "      <td>1.0</td>\n",
              "    </tr>\n",
              "    <tr>\n",
              "      <th>578</th>\n",
              "      <td>1.0</td>\n",
              "      <td>1.0</td>\n",
              "      <td>1.0</td>\n",
              "      <td>1.0</td>\n",
              "      <td>1.0</td>\n",
              "    </tr>\n",
              "  </tbody>\n",
              "</table>\n",
              "<p>579 rows × 5 columns</p>\n",
              "</div>\n",
              "    <div class=\"colab-df-buttons\">\n",
              "\n",
              "  <div class=\"colab-df-container\">\n",
              "    <button class=\"colab-df-convert\" onclick=\"convertToInteractive('df-926b08b0-67e7-4224-9fdc-83498eed8dae')\"\n",
              "            title=\"Convert this dataframe to an interactive table.\"\n",
              "            style=\"display:none;\">\n",
              "\n",
              "  <svg xmlns=\"http://www.w3.org/2000/svg\" height=\"24px\" viewBox=\"0 -960 960 960\">\n",
              "    <path d=\"M120-120v-720h720v720H120Zm60-500h600v-160H180v160Zm220 220h160v-160H400v160Zm0 220h160v-160H400v160ZM180-400h160v-160H180v160Zm440 0h160v-160H620v160ZM180-180h160v-160H180v160Zm440 0h160v-160H620v160Z\"/>\n",
              "  </svg>\n",
              "    </button>\n",
              "\n",
              "  <style>\n",
              "    .colab-df-container {\n",
              "      display:flex;\n",
              "      gap: 12px;\n",
              "    }\n",
              "\n",
              "    .colab-df-convert {\n",
              "      background-color: #E8F0FE;\n",
              "      border: none;\n",
              "      border-radius: 50%;\n",
              "      cursor: pointer;\n",
              "      display: none;\n",
              "      fill: #1967D2;\n",
              "      height: 32px;\n",
              "      padding: 0 0 0 0;\n",
              "      width: 32px;\n",
              "    }\n",
              "\n",
              "    .colab-df-convert:hover {\n",
              "      background-color: #E2EBFA;\n",
              "      box-shadow: 0px 1px 2px rgba(60, 64, 67, 0.3), 0px 1px 3px 1px rgba(60, 64, 67, 0.15);\n",
              "      fill: #174EA6;\n",
              "    }\n",
              "\n",
              "    .colab-df-buttons div {\n",
              "      margin-bottom: 4px;\n",
              "    }\n",
              "\n",
              "    [theme=dark] .colab-df-convert {\n",
              "      background-color: #3B4455;\n",
              "      fill: #D2E3FC;\n",
              "    }\n",
              "\n",
              "    [theme=dark] .colab-df-convert:hover {\n",
              "      background-color: #434B5C;\n",
              "      box-shadow: 0px 1px 3px 1px rgba(0, 0, 0, 0.15);\n",
              "      filter: drop-shadow(0px 1px 2px rgba(0, 0, 0, 0.3));\n",
              "      fill: #FFFFFF;\n",
              "    }\n",
              "  </style>\n",
              "\n",
              "    <script>\n",
              "      const buttonEl =\n",
              "        document.querySelector('#df-926b08b0-67e7-4224-9fdc-83498eed8dae button.colab-df-convert');\n",
              "      buttonEl.style.display =\n",
              "        google.colab.kernel.accessAllowed ? 'block' : 'none';\n",
              "\n",
              "      async function convertToInteractive(key) {\n",
              "        const element = document.querySelector('#df-926b08b0-67e7-4224-9fdc-83498eed8dae');\n",
              "        const dataTable =\n",
              "          await google.colab.kernel.invokeFunction('convertToInteractive',\n",
              "                                                    [key], {});\n",
              "        if (!dataTable) return;\n",
              "\n",
              "        const docLinkHtml = 'Like what you see? Visit the ' +\n",
              "          '<a target=\"_blank\" href=https://colab.research.google.com/notebooks/data_table.ipynb>data table notebook</a>'\n",
              "          + ' to learn more about interactive tables.';\n",
              "        element.innerHTML = '';\n",
              "        dataTable['output_type'] = 'display_data';\n",
              "        await google.colab.output.renderOutput(dataTable, element);\n",
              "        const docLink = document.createElement('div');\n",
              "        docLink.innerHTML = docLinkHtml;\n",
              "        element.appendChild(docLink);\n",
              "      }\n",
              "    </script>\n",
              "  </div>\n",
              "\n",
              "\n",
              "<div id=\"df-261d8299-cc36-4e45-8cf3-fdde5635b7ba\">\n",
              "  <button class=\"colab-df-quickchart\" onclick=\"quickchart('df-261d8299-cc36-4e45-8cf3-fdde5635b7ba')\"\n",
              "            title=\"Suggest charts.\"\n",
              "            style=\"display:none;\">\n",
              "\n",
              "<svg xmlns=\"http://www.w3.org/2000/svg\" height=\"24px\"viewBox=\"0 0 24 24\"\n",
              "     width=\"24px\">\n",
              "    <g>\n",
              "        <path d=\"M19 3H5c-1.1 0-2 .9-2 2v14c0 1.1.9 2 2 2h14c1.1 0 2-.9 2-2V5c0-1.1-.9-2-2-2zM9 17H7v-7h2v7zm4 0h-2V7h2v10zm4 0h-2v-4h2v4z\"/>\n",
              "    </g>\n",
              "</svg>\n",
              "  </button>\n",
              "\n",
              "<style>\n",
              "  .colab-df-quickchart {\n",
              "      --bg-color: #E8F0FE;\n",
              "      --fill-color: #1967D2;\n",
              "      --hover-bg-color: #E2EBFA;\n",
              "      --hover-fill-color: #174EA6;\n",
              "      --disabled-fill-color: #AAA;\n",
              "      --disabled-bg-color: #DDD;\n",
              "  }\n",
              "\n",
              "  [theme=dark] .colab-df-quickchart {\n",
              "      --bg-color: #3B4455;\n",
              "      --fill-color: #D2E3FC;\n",
              "      --hover-bg-color: #434B5C;\n",
              "      --hover-fill-color: #FFFFFF;\n",
              "      --disabled-bg-color: #3B4455;\n",
              "      --disabled-fill-color: #666;\n",
              "  }\n",
              "\n",
              "  .colab-df-quickchart {\n",
              "    background-color: var(--bg-color);\n",
              "    border: none;\n",
              "    border-radius: 50%;\n",
              "    cursor: pointer;\n",
              "    display: none;\n",
              "    fill: var(--fill-color);\n",
              "    height: 32px;\n",
              "    padding: 0;\n",
              "    width: 32px;\n",
              "  }\n",
              "\n",
              "  .colab-df-quickchart:hover {\n",
              "    background-color: var(--hover-bg-color);\n",
              "    box-shadow: 0 1px 2px rgba(60, 64, 67, 0.3), 0 1px 3px 1px rgba(60, 64, 67, 0.15);\n",
              "    fill: var(--button-hover-fill-color);\n",
              "  }\n",
              "\n",
              "  .colab-df-quickchart-complete:disabled,\n",
              "  .colab-df-quickchart-complete:disabled:hover {\n",
              "    background-color: var(--disabled-bg-color);\n",
              "    fill: var(--disabled-fill-color);\n",
              "    box-shadow: none;\n",
              "  }\n",
              "\n",
              "  .colab-df-spinner {\n",
              "    border: 2px solid var(--fill-color);\n",
              "    border-color: transparent;\n",
              "    border-bottom-color: var(--fill-color);\n",
              "    animation:\n",
              "      spin 1s steps(1) infinite;\n",
              "  }\n",
              "\n",
              "  @keyframes spin {\n",
              "    0% {\n",
              "      border-color: transparent;\n",
              "      border-bottom-color: var(--fill-color);\n",
              "      border-left-color: var(--fill-color);\n",
              "    }\n",
              "    20% {\n",
              "      border-color: transparent;\n",
              "      border-left-color: var(--fill-color);\n",
              "      border-top-color: var(--fill-color);\n",
              "    }\n",
              "    30% {\n",
              "      border-color: transparent;\n",
              "      border-left-color: var(--fill-color);\n",
              "      border-top-color: var(--fill-color);\n",
              "      border-right-color: var(--fill-color);\n",
              "    }\n",
              "    40% {\n",
              "      border-color: transparent;\n",
              "      border-right-color: var(--fill-color);\n",
              "      border-top-color: var(--fill-color);\n",
              "    }\n",
              "    60% {\n",
              "      border-color: transparent;\n",
              "      border-right-color: var(--fill-color);\n",
              "    }\n",
              "    80% {\n",
              "      border-color: transparent;\n",
              "      border-right-color: var(--fill-color);\n",
              "      border-bottom-color: var(--fill-color);\n",
              "    }\n",
              "    90% {\n",
              "      border-color: transparent;\n",
              "      border-bottom-color: var(--fill-color);\n",
              "    }\n",
              "  }\n",
              "</style>\n",
              "\n",
              "  <script>\n",
              "    async function quickchart(key) {\n",
              "      const quickchartButtonEl =\n",
              "        document.querySelector('#' + key + ' button');\n",
              "      quickchartButtonEl.disabled = true;  // To prevent multiple clicks.\n",
              "      quickchartButtonEl.classList.add('colab-df-spinner');\n",
              "      try {\n",
              "        const charts = await google.colab.kernel.invokeFunction(\n",
              "            'suggestCharts', [key], {});\n",
              "      } catch (error) {\n",
              "        console.error('Error during call to suggestCharts:', error);\n",
              "      }\n",
              "      quickchartButtonEl.classList.remove('colab-df-spinner');\n",
              "      quickchartButtonEl.classList.add('colab-df-quickchart-complete');\n",
              "    }\n",
              "    (() => {\n",
              "      let quickchartButtonEl =\n",
              "        document.querySelector('#df-261d8299-cc36-4e45-8cf3-fdde5635b7ba button');\n",
              "      quickchartButtonEl.style.display =\n",
              "        google.colab.kernel.accessAllowed ? 'block' : 'none';\n",
              "    })();\n",
              "  </script>\n",
              "</div>\n",
              "    </div>\n",
              "  </div>\n"
            ]
          },
          "metadata": {},
          "execution_count": 635
        }
      ]
    },
    {
      "cell_type": "code",
      "source": [
        "predictions.sum()"
      ],
      "metadata": {
        "colab": {
          "base_uri": "https://localhost:8080/"
        },
        "id": "l4jIpjM1-PRJ",
        "outputId": "f8a6da4e-3214-4b29-9d08-08ac23e25759"
      },
      "execution_count": null,
      "outputs": [
        {
          "output_type": "execute_result",
          "data": {
            "text/plain": [
              "RandomForestClassifier    172.0\n",
              "ExtraTreesClassifier      173.0\n",
              "BaggingClassifier         174.0\n",
              "DecisionTreeClassifier    168.0\n",
              "CatBoostClassifier        175.0\n",
              "dtype: float64"
            ]
          },
          "metadata": {},
          "execution_count": 636
        }
      ]
    },
    {
      "cell_type": "markdown",
      "source": [
        "As Random Forest gave us a significantly higher accuracy than the other models previously, we decided to only use it and not use voting with each model"
      ],
      "metadata": {
        "id": "W45YJtntD-r7"
      }
    },
    {
      "cell_type": "code",
      "source": [
        "sub_df=predictions[['RandomForestClassifier']].copy()\n",
        "sub_df.columns"
      ],
      "metadata": {
        "colab": {
          "base_uri": "https://localhost:8080/"
        },
        "id": "SbhmlLt9AdIu",
        "outputId": "c2b97605-f023-4c07-a203-ecadd355b2ae"
      },
      "execution_count": null,
      "outputs": [
        {
          "output_type": "execute_result",
          "data": {
            "text/plain": [
              "Index(['RandomForestClassifier'], dtype='object')"
            ]
          },
          "metadata": {},
          "execution_count": 637
        }
      ]
    },
    {
      "cell_type": "code",
      "source": [
        "sub_df=sub_df.rename(columns={\"RandomForestClassifier\":\"Class/ASD\"})"
      ],
      "metadata": {
        "id": "RYZNjZpBCxMQ"
      },
      "execution_count": null,
      "outputs": []
    },
    {
      "cell_type": "code",
      "source": [
        "sub_df.sum(axis=0)"
      ],
      "metadata": {
        "colab": {
          "base_uri": "https://localhost:8080/"
        },
        "id": "-0tsoDYjDFFV",
        "outputId": "3499f46a-81e7-4580-9880-423a056cae7d"
      },
      "execution_count": null,
      "outputs": [
        {
          "output_type": "execute_result",
          "data": {
            "text/plain": [
              "Class/ASD    172.0\n",
              "dtype: float64"
            ]
          },
          "metadata": {},
          "execution_count": 639
        }
      ]
    },
    {
      "cell_type": "code",
      "source": [
        "sub_df['Class/ASD']=sub_df['Class/ASD'].astype(np.int64)"
      ],
      "metadata": {
        "id": "L0YW0vO8C8Lv"
      },
      "execution_count": null,
      "outputs": []
    },
    {
      "cell_type": "code",
      "source": [
        "sub_df.sum()"
      ],
      "metadata": {
        "colab": {
          "base_uri": "https://localhost:8080/"
        },
        "id": "krNPDpzRDJ8E",
        "outputId": "326fe61d-cf06-44c4-f77f-d1ba5ca874cf"
      },
      "execution_count": null,
      "outputs": [
        {
          "output_type": "execute_result",
          "data": {
            "text/plain": [
              "Class/ASD    172\n",
              "dtype: int64"
            ]
          },
          "metadata": {},
          "execution_count": 641
        }
      ]
    },
    {
      "cell_type": "code",
      "source": [
        "sub_df"
      ],
      "metadata": {
        "colab": {
          "base_uri": "https://localhost:8080/",
          "height": 424
        },
        "id": "jn2Xud1_DLiS",
        "outputId": "7025a22a-90d7-4d3c-8a50-fc14e1b795d0"
      },
      "execution_count": null,
      "outputs": [
        {
          "output_type": "execute_result",
          "data": {
            "text/plain": [
              "     Class/ASD\n",
              "0            1\n",
              "1            0\n",
              "2            1\n",
              "3            0\n",
              "4            0\n",
              "..         ...\n",
              "574          0\n",
              "575          0\n",
              "576          0\n",
              "577          1\n",
              "578          1\n",
              "\n",
              "[579 rows x 1 columns]"
            ],
            "text/html": [
              "\n",
              "  <div id=\"df-d3b9e8bf-b576-4a16-9d7f-2ed6d4e75d43\" class=\"colab-df-container\">\n",
              "    <div>\n",
              "<style scoped>\n",
              "    .dataframe tbody tr th:only-of-type {\n",
              "        vertical-align: middle;\n",
              "    }\n",
              "\n",
              "    .dataframe tbody tr th {\n",
              "        vertical-align: top;\n",
              "    }\n",
              "\n",
              "    .dataframe thead th {\n",
              "        text-align: right;\n",
              "    }\n",
              "</style>\n",
              "<table border=\"1\" class=\"dataframe\">\n",
              "  <thead>\n",
              "    <tr style=\"text-align: right;\">\n",
              "      <th></th>\n",
              "      <th>Class/ASD</th>\n",
              "    </tr>\n",
              "  </thead>\n",
              "  <tbody>\n",
              "    <tr>\n",
              "      <th>0</th>\n",
              "      <td>1</td>\n",
              "    </tr>\n",
              "    <tr>\n",
              "      <th>1</th>\n",
              "      <td>0</td>\n",
              "    </tr>\n",
              "    <tr>\n",
              "      <th>2</th>\n",
              "      <td>1</td>\n",
              "    </tr>\n",
              "    <tr>\n",
              "      <th>3</th>\n",
              "      <td>0</td>\n",
              "    </tr>\n",
              "    <tr>\n",
              "      <th>4</th>\n",
              "      <td>0</td>\n",
              "    </tr>\n",
              "    <tr>\n",
              "      <th>...</th>\n",
              "      <td>...</td>\n",
              "    </tr>\n",
              "    <tr>\n",
              "      <th>574</th>\n",
              "      <td>0</td>\n",
              "    </tr>\n",
              "    <tr>\n",
              "      <th>575</th>\n",
              "      <td>0</td>\n",
              "    </tr>\n",
              "    <tr>\n",
              "      <th>576</th>\n",
              "      <td>0</td>\n",
              "    </tr>\n",
              "    <tr>\n",
              "      <th>577</th>\n",
              "      <td>1</td>\n",
              "    </tr>\n",
              "    <tr>\n",
              "      <th>578</th>\n",
              "      <td>1</td>\n",
              "    </tr>\n",
              "  </tbody>\n",
              "</table>\n",
              "<p>579 rows × 1 columns</p>\n",
              "</div>\n",
              "    <div class=\"colab-df-buttons\">\n",
              "\n",
              "  <div class=\"colab-df-container\">\n",
              "    <button class=\"colab-df-convert\" onclick=\"convertToInteractive('df-d3b9e8bf-b576-4a16-9d7f-2ed6d4e75d43')\"\n",
              "            title=\"Convert this dataframe to an interactive table.\"\n",
              "            style=\"display:none;\">\n",
              "\n",
              "  <svg xmlns=\"http://www.w3.org/2000/svg\" height=\"24px\" viewBox=\"0 -960 960 960\">\n",
              "    <path d=\"M120-120v-720h720v720H120Zm60-500h600v-160H180v160Zm220 220h160v-160H400v160Zm0 220h160v-160H400v160ZM180-400h160v-160H180v160Zm440 0h160v-160H620v160ZM180-180h160v-160H180v160Zm440 0h160v-160H620v160Z\"/>\n",
              "  </svg>\n",
              "    </button>\n",
              "\n",
              "  <style>\n",
              "    .colab-df-container {\n",
              "      display:flex;\n",
              "      gap: 12px;\n",
              "    }\n",
              "\n",
              "    .colab-df-convert {\n",
              "      background-color: #E8F0FE;\n",
              "      border: none;\n",
              "      border-radius: 50%;\n",
              "      cursor: pointer;\n",
              "      display: none;\n",
              "      fill: #1967D2;\n",
              "      height: 32px;\n",
              "      padding: 0 0 0 0;\n",
              "      width: 32px;\n",
              "    }\n",
              "\n",
              "    .colab-df-convert:hover {\n",
              "      background-color: #E2EBFA;\n",
              "      box-shadow: 0px 1px 2px rgba(60, 64, 67, 0.3), 0px 1px 3px 1px rgba(60, 64, 67, 0.15);\n",
              "      fill: #174EA6;\n",
              "    }\n",
              "\n",
              "    .colab-df-buttons div {\n",
              "      margin-bottom: 4px;\n",
              "    }\n",
              "\n",
              "    [theme=dark] .colab-df-convert {\n",
              "      background-color: #3B4455;\n",
              "      fill: #D2E3FC;\n",
              "    }\n",
              "\n",
              "    [theme=dark] .colab-df-convert:hover {\n",
              "      background-color: #434B5C;\n",
              "      box-shadow: 0px 1px 3px 1px rgba(0, 0, 0, 0.15);\n",
              "      filter: drop-shadow(0px 1px 2px rgba(0, 0, 0, 0.3));\n",
              "      fill: #FFFFFF;\n",
              "    }\n",
              "  </style>\n",
              "\n",
              "    <script>\n",
              "      const buttonEl =\n",
              "        document.querySelector('#df-d3b9e8bf-b576-4a16-9d7f-2ed6d4e75d43 button.colab-df-convert');\n",
              "      buttonEl.style.display =\n",
              "        google.colab.kernel.accessAllowed ? 'block' : 'none';\n",
              "\n",
              "      async function convertToInteractive(key) {\n",
              "        const element = document.querySelector('#df-d3b9e8bf-b576-4a16-9d7f-2ed6d4e75d43');\n",
              "        const dataTable =\n",
              "          await google.colab.kernel.invokeFunction('convertToInteractive',\n",
              "                                                    [key], {});\n",
              "        if (!dataTable) return;\n",
              "\n",
              "        const docLinkHtml = 'Like what you see? Visit the ' +\n",
              "          '<a target=\"_blank\" href=https://colab.research.google.com/notebooks/data_table.ipynb>data table notebook</a>'\n",
              "          + ' to learn more about interactive tables.';\n",
              "        element.innerHTML = '';\n",
              "        dataTable['output_type'] = 'display_data';\n",
              "        await google.colab.output.renderOutput(dataTable, element);\n",
              "        const docLink = document.createElement('div');\n",
              "        docLink.innerHTML = docLinkHtml;\n",
              "        element.appendChild(docLink);\n",
              "      }\n",
              "    </script>\n",
              "  </div>\n",
              "\n",
              "\n",
              "<div id=\"df-bdc2de48-0836-48f1-8901-d5ed6ce28886\">\n",
              "  <button class=\"colab-df-quickchart\" onclick=\"quickchart('df-bdc2de48-0836-48f1-8901-d5ed6ce28886')\"\n",
              "            title=\"Suggest charts.\"\n",
              "            style=\"display:none;\">\n",
              "\n",
              "<svg xmlns=\"http://www.w3.org/2000/svg\" height=\"24px\"viewBox=\"0 0 24 24\"\n",
              "     width=\"24px\">\n",
              "    <g>\n",
              "        <path d=\"M19 3H5c-1.1 0-2 .9-2 2v14c0 1.1.9 2 2 2h14c1.1 0 2-.9 2-2V5c0-1.1-.9-2-2-2zM9 17H7v-7h2v7zm4 0h-2V7h2v10zm4 0h-2v-4h2v4z\"/>\n",
              "    </g>\n",
              "</svg>\n",
              "  </button>\n",
              "\n",
              "<style>\n",
              "  .colab-df-quickchart {\n",
              "      --bg-color: #E8F0FE;\n",
              "      --fill-color: #1967D2;\n",
              "      --hover-bg-color: #E2EBFA;\n",
              "      --hover-fill-color: #174EA6;\n",
              "      --disabled-fill-color: #AAA;\n",
              "      --disabled-bg-color: #DDD;\n",
              "  }\n",
              "\n",
              "  [theme=dark] .colab-df-quickchart {\n",
              "      --bg-color: #3B4455;\n",
              "      --fill-color: #D2E3FC;\n",
              "      --hover-bg-color: #434B5C;\n",
              "      --hover-fill-color: #FFFFFF;\n",
              "      --disabled-bg-color: #3B4455;\n",
              "      --disabled-fill-color: #666;\n",
              "  }\n",
              "\n",
              "  .colab-df-quickchart {\n",
              "    background-color: var(--bg-color);\n",
              "    border: none;\n",
              "    border-radius: 50%;\n",
              "    cursor: pointer;\n",
              "    display: none;\n",
              "    fill: var(--fill-color);\n",
              "    height: 32px;\n",
              "    padding: 0;\n",
              "    width: 32px;\n",
              "  }\n",
              "\n",
              "  .colab-df-quickchart:hover {\n",
              "    background-color: var(--hover-bg-color);\n",
              "    box-shadow: 0 1px 2px rgba(60, 64, 67, 0.3), 0 1px 3px 1px rgba(60, 64, 67, 0.15);\n",
              "    fill: var(--button-hover-fill-color);\n",
              "  }\n",
              "\n",
              "  .colab-df-quickchart-complete:disabled,\n",
              "  .colab-df-quickchart-complete:disabled:hover {\n",
              "    background-color: var(--disabled-bg-color);\n",
              "    fill: var(--disabled-fill-color);\n",
              "    box-shadow: none;\n",
              "  }\n",
              "\n",
              "  .colab-df-spinner {\n",
              "    border: 2px solid var(--fill-color);\n",
              "    border-color: transparent;\n",
              "    border-bottom-color: var(--fill-color);\n",
              "    animation:\n",
              "      spin 1s steps(1) infinite;\n",
              "  }\n",
              "\n",
              "  @keyframes spin {\n",
              "    0% {\n",
              "      border-color: transparent;\n",
              "      border-bottom-color: var(--fill-color);\n",
              "      border-left-color: var(--fill-color);\n",
              "    }\n",
              "    20% {\n",
              "      border-color: transparent;\n",
              "      border-left-color: var(--fill-color);\n",
              "      border-top-color: var(--fill-color);\n",
              "    }\n",
              "    30% {\n",
              "      border-color: transparent;\n",
              "      border-left-color: var(--fill-color);\n",
              "      border-top-color: var(--fill-color);\n",
              "      border-right-color: var(--fill-color);\n",
              "    }\n",
              "    40% {\n",
              "      border-color: transparent;\n",
              "      border-right-color: var(--fill-color);\n",
              "      border-top-color: var(--fill-color);\n",
              "    }\n",
              "    60% {\n",
              "      border-color: transparent;\n",
              "      border-right-color: var(--fill-color);\n",
              "    }\n",
              "    80% {\n",
              "      border-color: transparent;\n",
              "      border-right-color: var(--fill-color);\n",
              "      border-bottom-color: var(--fill-color);\n",
              "    }\n",
              "    90% {\n",
              "      border-color: transparent;\n",
              "      border-bottom-color: var(--fill-color);\n",
              "    }\n",
              "  }\n",
              "</style>\n",
              "\n",
              "  <script>\n",
              "    async function quickchart(key) {\n",
              "      const quickchartButtonEl =\n",
              "        document.querySelector('#' + key + ' button');\n",
              "      quickchartButtonEl.disabled = true;  // To prevent multiple clicks.\n",
              "      quickchartButtonEl.classList.add('colab-df-spinner');\n",
              "      try {\n",
              "        const charts = await google.colab.kernel.invokeFunction(\n",
              "            'suggestCharts', [key], {});\n",
              "      } catch (error) {\n",
              "        console.error('Error during call to suggestCharts:', error);\n",
              "      }\n",
              "      quickchartButtonEl.classList.remove('colab-df-spinner');\n",
              "      quickchartButtonEl.classList.add('colab-df-quickchart-complete');\n",
              "    }\n",
              "    (() => {\n",
              "      let quickchartButtonEl =\n",
              "        document.querySelector('#df-bdc2de48-0836-48f1-8901-d5ed6ce28886 button');\n",
              "      quickchartButtonEl.style.display =\n",
              "        google.colab.kernel.accessAllowed ? 'block' : 'none';\n",
              "    })();\n",
              "  </script>\n",
              "</div>\n",
              "    </div>\n",
              "  </div>\n"
            ]
          },
          "metadata": {},
          "execution_count": 631
        }
      ]
    },
    {
      "cell_type": "code",
      "source": [
        "sub_df.to_csv(\"submission_final_random_forest.csv\", index=False)"
      ],
      "metadata": {
        "id": "MITujSAvBzrd"
      },
      "execution_count": null,
      "outputs": []
    },
    {
      "cell_type": "code",
      "source": [],
      "metadata": {
        "id": "WaAZK4RUDNLP"
      },
      "execution_count": null,
      "outputs": []
    }
  ]
}